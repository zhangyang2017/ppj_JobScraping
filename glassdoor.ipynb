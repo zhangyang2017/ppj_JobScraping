{
 "cells": [
  {
   "cell_type": "code",
   "execution_count": 2,
   "metadata": {},
   "outputs": [],
   "source": [
    "from datetime import datetime #to get the current date\n",
    "from selenium import webdriver\n",
    "from selenium.common.exceptions import NoSuchElementException, ElementClickInterceptedException\n",
    "import pandas as pd\n",
    "import time\n",
    "import numpy as np"
   ]
  },
  {
   "cell_type": "code",
   "execution_count": 17,
   "metadata": {},
   "outputs": [
    {
     "data": {
      "text/plain": [
       "'/Users/yangzhang/document/ds_projs/ppj_JobScraping'"
      ]
     },
     "execution_count": 17,
     "metadata": {},
     "output_type": "execute_result"
    }
   ],
   "source": [
    "pwd"
   ]
  },
  {
   "cell_type": "code",
   "execution_count": 61,
   "metadata": {},
   "outputs": [],
   "source": [
    "def get_jobs(keyword, num_jobs, verbose, slp_time):\n",
    "    options = webdriver.ChromeOptions()\n",
    "    #options.add_argument('headless')\n",
    "    driver = webdriver.Chrome('/Users/yangzhang/document/ds_projs/ppj_JobScraping/chromedriver', options=options)\n",
    "    driver.set_window_size(1120, 1600)\n",
    "    \n",
    "    url = \"https://www.glassdoor.com/Job/jobs.htm?suggestCount=0&suggestChosen=false&clickSource=searchBtn&typedKeyword=\"+keyword+\"&sc.keyword=\"+keyword+\"&locT=&locId&jobType=\"\n",
    "    driver.get(url)\n",
    "    jobs = []\n",
    "    \n",
    "    while len(jobs) < num_jobs:\n",
    "        time.sleep(slp_time)\n",
    "        \n",
    "        try:\n",
    "            driver.find_element_by_class_name(\"selected\").click()\n",
    "        except ElementClickInterceptedException:\n",
    "            pass\n",
    "        \n",
    "        try:\n",
    "            driver.find_element_by_css_selector('[alt=\"Close\"]').click()\n",
    "        except NoSuchElementException:\n",
    "            pass\n",
    "        \n",
    "        job_buttons = driver.find_elements_by_class_name(\"jl\")\n",
    "        print(job_buttons)\n",
    "        \n",
    "        for job_button in job_buttons:\n",
    "            \n",
    "            print(\"Progress: {}\".format('' + str(len(jobs)) + '/' + str(num_jobs)))\n",
    "            if len(jobs) >= num_jobs:\n",
    "                break\n",
    "                \n",
    "            job_button.click()\n",
    "            time.sleep(10)\n",
    "            collected_successfully = False\n",
    "            \n",
    "            while not collected_successfully:\n",
    "                try:\n",
    "                    title = driver.find_element_by_xpath('.//div[contains(@class, \"title\")]').text\n",
    "                    company = driver.find_element_by_xpath('.//div[@class=\"employerName\"]').text\n",
    "                    location = driver.find_element_by_xpath('.//div[@class=\"location\"]').text\n",
    "                    description = driver.find_element_by_xpath('.//div[@class=\"jobDescriptionContent desc\"]').text\n",
    "                    collected_successfully = True\n",
    "                except:\n",
    "                    time.sleep(5)\n",
    "                    \n",
    "            try:\n",
    "                salary_estimate = driver.find_element_by_xpath('.//span[@class=\"gray salary\"]').text\n",
    "            except NoSuchElementException:\n",
    "                salary_estimate = -1\n",
    "                \n",
    "            try:\n",
    "                rating = driver.find_element_by_xpath('.//span[@class=\"rating\"]').text\n",
    "            except NoSuchElementException:\n",
    "                rating = -1\n",
    "                \n",
    "            if verbose:\n",
    "                print('Job Title: {}'.format(title))\n",
    "                print('Salary Estimate: {}'.format(salary_estimate))\n",
    "                print(\"Rating: {}\".format(rating))\n",
    "                print('Company Name: {}'.format(company))\n",
    "                print(\"Location: {}\".format(location))\n",
    "            \n",
    "            #Going to the Company tab...\n",
    "            #clicking on this:\n",
    "            #<div class=\"tab\" data-tab-type=\"overview\"><span>Company</span></div>\n",
    "            #try:\n",
    "            #    driver.find_element_by_xpath('.//div[@class=\"tab\" and @data-tab-type=\"overview\"]').click()\n",
    "             #   try:\n",
    "             #       headquarters = driver.find_element_by_xpath('.//div[@class=\"infoEntity\"]//label[text()=\"Headquarters\"]//following-sibling::*').text\n",
    "             #   except NoSuchElementException:\n",
    "             #       headquarters = -1\n",
    "             #   try:\n",
    "             #       sector = driver.find_element_by_xpath('.//div[@class=\"infoEntity\"]//label[text()=\"Sector\"]//following-sibling::*').text\n",
    "             #   except NoSuchElementException:\n",
    "            #        sector = -1\n",
    "          #  except NoSuchElementException:  #Rarely, some job postings do not have the \"Company\" tab.\n",
    "            #    headquarters = -1\n",
    "            #    sector = -1\n",
    "                \n",
    "          #  if verbose:\n",
    "           #     print(\"Headquarters: {}\".format(headquarters))\n",
    "          #      print(\"Sector: {}\".format(sector))\n",
    "          #      print(\"@@@@@@@@@@@@@@@@@@@@@@@@@@@@@@@@@@@@@@@@@@@@@@@@@@@@\")\n",
    "\n",
    "            jobs.append({\n",
    "                \"JobTitle\": title,\n",
    "                \"Company\": company,\n",
    "                \"Location\": location,\n",
    "                \"SalaryEstimate\": salary_estimate,\n",
    "                \"Rating\": rating,\n",
    "                \"JobDescription\": description\n",
    "                #\"Sector\": sector,\n",
    "                #\"Headquarters\": headquarters\n",
    "            })\n",
    "            \n",
    "            #Clicking on the \"next page\" button\n",
    "            try:\n",
    "                driver.find_element_by_xpath('.//li[@class=\"next\"]//a').click()\n",
    "            except NoSuchElementException:\n",
    "                print(\"Scraping terminated before reaching target number of jobs. Needed {}, got {}.\".format(num_jobs, len(jobs)))\n",
    "                break\n",
    "        \n",
    "        return pd.DataFrame(jobs)"
   ]
  },
  {
   "cell_type": "code",
   "execution_count": 62,
   "metadata": {},
   "outputs": [
    {
     "name": "stdout",
     "output_type": "stream",
     "text": [
      " x out worked\n",
      "[<selenium.webdriver.remote.webelement.WebElement (session=\"ffc27ebdbb31b814e13eff74cec2b8f7\", element=\"e0533f0c-f53f-4c1b-861c-8f1494829915\")>, <selenium.webdriver.remote.webelement.WebElement (session=\"ffc27ebdbb31b814e13eff74cec2b8f7\", element=\"d3d84844-3d1c-4085-9d21-a1938b64d6ac\")>, <selenium.webdriver.remote.webelement.WebElement (session=\"ffc27ebdbb31b814e13eff74cec2b8f7\", element=\"a4f52f9d-d3f8-4ce9-9e0a-9496a7b061df\")>, <selenium.webdriver.remote.webelement.WebElement (session=\"ffc27ebdbb31b814e13eff74cec2b8f7\", element=\"9adf23a9-a650-485d-bf86-cdfc03af521d\")>, <selenium.webdriver.remote.webelement.WebElement (session=\"ffc27ebdbb31b814e13eff74cec2b8f7\", element=\"e7e1bf56-6eac-4f69-b4c7-f2e3723c7115\")>, <selenium.webdriver.remote.webelement.WebElement (session=\"ffc27ebdbb31b814e13eff74cec2b8f7\", element=\"c32090b3-4438-4b7d-a9ac-e86e3d29524c\")>, <selenium.webdriver.remote.webelement.WebElement (session=\"ffc27ebdbb31b814e13eff74cec2b8f7\", element=\"aaceaae5-f65c-4a19-9dd6-7fa540e101c5\")>, <selenium.webdriver.remote.webelement.WebElement (session=\"ffc27ebdbb31b814e13eff74cec2b8f7\", element=\"e215695b-b24f-4059-8f95-430065997cbb\")>, <selenium.webdriver.remote.webelement.WebElement (session=\"ffc27ebdbb31b814e13eff74cec2b8f7\", element=\"e667e32e-b57b-4c78-81f5-04fb95de7472\")>, <selenium.webdriver.remote.webelement.WebElement (session=\"ffc27ebdbb31b814e13eff74cec2b8f7\", element=\"ada938f7-3e0c-4c05-a7d5-a7ecda11f3ba\")>, <selenium.webdriver.remote.webelement.WebElement (session=\"ffc27ebdbb31b814e13eff74cec2b8f7\", element=\"ab3cda49-3163-44fa-b539-61916e8b9f35\")>, <selenium.webdriver.remote.webelement.WebElement (session=\"ffc27ebdbb31b814e13eff74cec2b8f7\", element=\"af30d1d5-b581-4f86-927f-3dd36bd5ba4a\")>, <selenium.webdriver.remote.webelement.WebElement (session=\"ffc27ebdbb31b814e13eff74cec2b8f7\", element=\"623240a9-7c64-4c7f-a3bb-4e7c869a8a36\")>, <selenium.webdriver.remote.webelement.WebElement (session=\"ffc27ebdbb31b814e13eff74cec2b8f7\", element=\"b90ce6e1-9cee-4a88-9858-d4b904e18980\")>, <selenium.webdriver.remote.webelement.WebElement (session=\"ffc27ebdbb31b814e13eff74cec2b8f7\", element=\"8e69636b-f611-4e53-9b0c-bd349c93c2c6\")>, <selenium.webdriver.remote.webelement.WebElement (session=\"ffc27ebdbb31b814e13eff74cec2b8f7\", element=\"fea127fe-b80a-405c-a524-790ea74c0480\")>, <selenium.webdriver.remote.webelement.WebElement (session=\"ffc27ebdbb31b814e13eff74cec2b8f7\", element=\"30cb8a01-363c-46a5-b926-303ddeba8009\")>, <selenium.webdriver.remote.webelement.WebElement (session=\"ffc27ebdbb31b814e13eff74cec2b8f7\", element=\"1e34b3fb-5612-44ec-86f2-f0ed9712b43d\")>, <selenium.webdriver.remote.webelement.WebElement (session=\"ffc27ebdbb31b814e13eff74cec2b8f7\", element=\"e8f6375b-9cfc-4350-8ec4-5c124fdf6728\")>, <selenium.webdriver.remote.webelement.WebElement (session=\"ffc27ebdbb31b814e13eff74cec2b8f7\", element=\"d0e1b330-fe4d-4f16-b463-365d7cd502cc\")>, <selenium.webdriver.remote.webelement.WebElement (session=\"ffc27ebdbb31b814e13eff74cec2b8f7\", element=\"c55ff278-e70c-491a-8e7a-047999877e2b\")>, <selenium.webdriver.remote.webelement.WebElement (session=\"ffc27ebdbb31b814e13eff74cec2b8f7\", element=\"ac61f56b-a020-4c85-82c2-c2eb49f27506\")>, <selenium.webdriver.remote.webelement.WebElement (session=\"ffc27ebdbb31b814e13eff74cec2b8f7\", element=\"23aa7c51-b09a-443d-9dcb-dc3a44854c23\")>, <selenium.webdriver.remote.webelement.WebElement (session=\"ffc27ebdbb31b814e13eff74cec2b8f7\", element=\"0ed604c2-c22a-4c7c-8c42-320a6f5dafca\")>, <selenium.webdriver.remote.webelement.WebElement (session=\"ffc27ebdbb31b814e13eff74cec2b8f7\", element=\"be1301fb-9049-4e48-a852-41090f7f6d7e\")>, <selenium.webdriver.remote.webelement.WebElement (session=\"ffc27ebdbb31b814e13eff74cec2b8f7\", element=\"3271a2f8-5e95-4e67-8419-33c5848a4caf\")>, <selenium.webdriver.remote.webelement.WebElement (session=\"ffc27ebdbb31b814e13eff74cec2b8f7\", element=\"673af808-f9b7-415e-8873-ee6f4971e7d9\")>, <selenium.webdriver.remote.webelement.WebElement (session=\"ffc27ebdbb31b814e13eff74cec2b8f7\", element=\"5a2c33ed-dfa5-4082-aef8-751f193fed95\")>, <selenium.webdriver.remote.webelement.WebElement (session=\"ffc27ebdbb31b814e13eff74cec2b8f7\", element=\"0bf1fbb3-afbe-49b5-9638-9503637f7021\")>, <selenium.webdriver.remote.webelement.WebElement (session=\"ffc27ebdbb31b814e13eff74cec2b8f7\", element=\"7cdb7254-396f-47cc-813a-ac5d5b293234\")>, <selenium.webdriver.remote.webelement.WebElement (session=\"ffc27ebdbb31b814e13eff74cec2b8f7\", element=\"5efadee8-a801-4f01-8112-b1746a995abf\")>]\n",
      "Progress: 0/13\n",
      "Job Title: Senior Data Scientist\n",
      "Salary Estimate: -1\n",
      "Rating: 4.3\n",
      "Company Name: Pluralsight\n",
      "4.3\n",
      "Location: Boston, MA\n",
      "Progress: 1/13\n",
      "Job Title: Data Scientist\n",
      "Salary Estimate: -1\n",
      "Rating: 4.0\n",
      "Company Name: Budderfly Inc\n",
      "4.0\n",
      "Location: Shelton, CT\n",
      "Progress: 2/13\n"
     ]
    },
    {
     "ename": "StaleElementReferenceException",
     "evalue": "Message: stale element reference: element is not attached to the page document\n  (Session info: chrome=86.0.4240.111)\n",
     "output_type": "error",
     "traceback": [
      "\u001b[0;31m---------------------------------------------------------------------------\u001b[0m",
      "\u001b[0;31mStaleElementReferenceException\u001b[0m            Traceback (most recent call last)",
      "\u001b[0;32m<ipython-input-62-f009c5ee74fd>\u001b[0m in \u001b[0;36m<module>\u001b[0;34m\u001b[0m\n\u001b[0;32m----> 1\u001b[0;31m \u001b[0mget_jobs\u001b[0m\u001b[0;34m(\u001b[0m\u001b[0;34m'data scientist'\u001b[0m\u001b[0;34m,\u001b[0m \u001b[0;36m13\u001b[0m\u001b[0;34m,\u001b[0m \u001b[0mverbose\u001b[0m\u001b[0;34m=\u001b[0m\u001b[0;32mTrue\u001b[0m\u001b[0;34m,\u001b[0m \u001b[0mslp_time\u001b[0m\u001b[0;34m=\u001b[0m\u001b[0;36m10\u001b[0m\u001b[0;34m)\u001b[0m\u001b[0;34m\u001b[0m\u001b[0;34m\u001b[0m\u001b[0m\n\u001b[0m",
      "\u001b[0;32m<ipython-input-61-d988187ef7b1>\u001b[0m in \u001b[0;36mget_jobs\u001b[0;34m(keyword, num_jobs, verbose, slp_time)\u001b[0m\n\u001b[1;32m     33\u001b[0m                 \u001b[0;32mbreak\u001b[0m\u001b[0;34m\u001b[0m\u001b[0;34m\u001b[0m\u001b[0m\n\u001b[1;32m     34\u001b[0m \u001b[0;34m\u001b[0m\u001b[0m\n\u001b[0;32m---> 35\u001b[0;31m             \u001b[0mjob_button\u001b[0m\u001b[0;34m.\u001b[0m\u001b[0mclick\u001b[0m\u001b[0;34m(\u001b[0m\u001b[0;34m)\u001b[0m\u001b[0;34m\u001b[0m\u001b[0;34m\u001b[0m\u001b[0m\n\u001b[0m\u001b[1;32m     36\u001b[0m             \u001b[0mtime\u001b[0m\u001b[0;34m.\u001b[0m\u001b[0msleep\u001b[0m\u001b[0;34m(\u001b[0m\u001b[0;36m10\u001b[0m\u001b[0;34m)\u001b[0m\u001b[0;34m\u001b[0m\u001b[0;34m\u001b[0m\u001b[0m\n\u001b[1;32m     37\u001b[0m             \u001b[0mcollected_successfully\u001b[0m \u001b[0;34m=\u001b[0m \u001b[0;32mFalse\u001b[0m\u001b[0;34m\u001b[0m\u001b[0;34m\u001b[0m\u001b[0m\n",
      "\u001b[0;32m~/opt/anaconda3/lib/python3.8/site-packages/selenium/webdriver/remote/webelement.py\u001b[0m in \u001b[0;36mclick\u001b[0;34m(self)\u001b[0m\n\u001b[1;32m     78\u001b[0m     \u001b[0;32mdef\u001b[0m \u001b[0mclick\u001b[0m\u001b[0;34m(\u001b[0m\u001b[0mself\u001b[0m\u001b[0;34m)\u001b[0m\u001b[0;34m:\u001b[0m\u001b[0;34m\u001b[0m\u001b[0;34m\u001b[0m\u001b[0m\n\u001b[1;32m     79\u001b[0m         \u001b[0;34m\"\"\"Clicks the element.\"\"\"\u001b[0m\u001b[0;34m\u001b[0m\u001b[0;34m\u001b[0m\u001b[0m\n\u001b[0;32m---> 80\u001b[0;31m         \u001b[0mself\u001b[0m\u001b[0;34m.\u001b[0m\u001b[0m_execute\u001b[0m\u001b[0;34m(\u001b[0m\u001b[0mCommand\u001b[0m\u001b[0;34m.\u001b[0m\u001b[0mCLICK_ELEMENT\u001b[0m\u001b[0;34m)\u001b[0m\u001b[0;34m\u001b[0m\u001b[0;34m\u001b[0m\u001b[0m\n\u001b[0m\u001b[1;32m     81\u001b[0m \u001b[0;34m\u001b[0m\u001b[0m\n\u001b[1;32m     82\u001b[0m     \u001b[0;32mdef\u001b[0m \u001b[0msubmit\u001b[0m\u001b[0;34m(\u001b[0m\u001b[0mself\u001b[0m\u001b[0;34m)\u001b[0m\u001b[0;34m:\u001b[0m\u001b[0;34m\u001b[0m\u001b[0;34m\u001b[0m\u001b[0m\n",
      "\u001b[0;32m~/opt/anaconda3/lib/python3.8/site-packages/selenium/webdriver/remote/webelement.py\u001b[0m in \u001b[0;36m_execute\u001b[0;34m(self, command, params)\u001b[0m\n\u001b[1;32m    631\u001b[0m             \u001b[0mparams\u001b[0m \u001b[0;34m=\u001b[0m \u001b[0;34m{\u001b[0m\u001b[0;34m}\u001b[0m\u001b[0;34m\u001b[0m\u001b[0;34m\u001b[0m\u001b[0m\n\u001b[1;32m    632\u001b[0m         \u001b[0mparams\u001b[0m\u001b[0;34m[\u001b[0m\u001b[0;34m'id'\u001b[0m\u001b[0;34m]\u001b[0m \u001b[0;34m=\u001b[0m \u001b[0mself\u001b[0m\u001b[0;34m.\u001b[0m\u001b[0m_id\u001b[0m\u001b[0;34m\u001b[0m\u001b[0;34m\u001b[0m\u001b[0m\n\u001b[0;32m--> 633\u001b[0;31m         \u001b[0;32mreturn\u001b[0m \u001b[0mself\u001b[0m\u001b[0;34m.\u001b[0m\u001b[0m_parent\u001b[0m\u001b[0;34m.\u001b[0m\u001b[0mexecute\u001b[0m\u001b[0;34m(\u001b[0m\u001b[0mcommand\u001b[0m\u001b[0;34m,\u001b[0m \u001b[0mparams\u001b[0m\u001b[0;34m)\u001b[0m\u001b[0;34m\u001b[0m\u001b[0;34m\u001b[0m\u001b[0m\n\u001b[0m\u001b[1;32m    634\u001b[0m \u001b[0;34m\u001b[0m\u001b[0m\n\u001b[1;32m    635\u001b[0m     \u001b[0;32mdef\u001b[0m \u001b[0mfind_element\u001b[0m\u001b[0;34m(\u001b[0m\u001b[0mself\u001b[0m\u001b[0;34m,\u001b[0m \u001b[0mby\u001b[0m\u001b[0;34m=\u001b[0m\u001b[0mBy\u001b[0m\u001b[0;34m.\u001b[0m\u001b[0mID\u001b[0m\u001b[0;34m,\u001b[0m \u001b[0mvalue\u001b[0m\u001b[0;34m=\u001b[0m\u001b[0;32mNone\u001b[0m\u001b[0;34m)\u001b[0m\u001b[0;34m:\u001b[0m\u001b[0;34m\u001b[0m\u001b[0;34m\u001b[0m\u001b[0m\n",
      "\u001b[0;32m~/opt/anaconda3/lib/python3.8/site-packages/selenium/webdriver/remote/webdriver.py\u001b[0m in \u001b[0;36mexecute\u001b[0;34m(self, driver_command, params)\u001b[0m\n\u001b[1;32m    319\u001b[0m         \u001b[0mresponse\u001b[0m \u001b[0;34m=\u001b[0m \u001b[0mself\u001b[0m\u001b[0;34m.\u001b[0m\u001b[0mcommand_executor\u001b[0m\u001b[0;34m.\u001b[0m\u001b[0mexecute\u001b[0m\u001b[0;34m(\u001b[0m\u001b[0mdriver_command\u001b[0m\u001b[0;34m,\u001b[0m \u001b[0mparams\u001b[0m\u001b[0;34m)\u001b[0m\u001b[0;34m\u001b[0m\u001b[0;34m\u001b[0m\u001b[0m\n\u001b[1;32m    320\u001b[0m         \u001b[0;32mif\u001b[0m \u001b[0mresponse\u001b[0m\u001b[0;34m:\u001b[0m\u001b[0;34m\u001b[0m\u001b[0;34m\u001b[0m\u001b[0m\n\u001b[0;32m--> 321\u001b[0;31m             \u001b[0mself\u001b[0m\u001b[0;34m.\u001b[0m\u001b[0merror_handler\u001b[0m\u001b[0;34m.\u001b[0m\u001b[0mcheck_response\u001b[0m\u001b[0;34m(\u001b[0m\u001b[0mresponse\u001b[0m\u001b[0;34m)\u001b[0m\u001b[0;34m\u001b[0m\u001b[0;34m\u001b[0m\u001b[0m\n\u001b[0m\u001b[1;32m    322\u001b[0m             response['value'] = self._unwrap_value(\n\u001b[1;32m    323\u001b[0m                 response.get('value', None))\n",
      "\u001b[0;32m~/opt/anaconda3/lib/python3.8/site-packages/selenium/webdriver/remote/errorhandler.py\u001b[0m in \u001b[0;36mcheck_response\u001b[0;34m(self, response)\u001b[0m\n\u001b[1;32m    240\u001b[0m                 \u001b[0malert_text\u001b[0m \u001b[0;34m=\u001b[0m \u001b[0mvalue\u001b[0m\u001b[0;34m[\u001b[0m\u001b[0;34m'alert'\u001b[0m\u001b[0;34m]\u001b[0m\u001b[0;34m.\u001b[0m\u001b[0mget\u001b[0m\u001b[0;34m(\u001b[0m\u001b[0;34m'text'\u001b[0m\u001b[0;34m)\u001b[0m\u001b[0;34m\u001b[0m\u001b[0;34m\u001b[0m\u001b[0m\n\u001b[1;32m    241\u001b[0m             \u001b[0;32mraise\u001b[0m \u001b[0mexception_class\u001b[0m\u001b[0;34m(\u001b[0m\u001b[0mmessage\u001b[0m\u001b[0;34m,\u001b[0m \u001b[0mscreen\u001b[0m\u001b[0;34m,\u001b[0m \u001b[0mstacktrace\u001b[0m\u001b[0;34m,\u001b[0m \u001b[0malert_text\u001b[0m\u001b[0;34m)\u001b[0m\u001b[0;34m\u001b[0m\u001b[0;34m\u001b[0m\u001b[0m\n\u001b[0;32m--> 242\u001b[0;31m         \u001b[0;32mraise\u001b[0m \u001b[0mexception_class\u001b[0m\u001b[0;34m(\u001b[0m\u001b[0mmessage\u001b[0m\u001b[0;34m,\u001b[0m \u001b[0mscreen\u001b[0m\u001b[0;34m,\u001b[0m \u001b[0mstacktrace\u001b[0m\u001b[0;34m)\u001b[0m\u001b[0;34m\u001b[0m\u001b[0;34m\u001b[0m\u001b[0m\n\u001b[0m\u001b[1;32m    243\u001b[0m \u001b[0;34m\u001b[0m\u001b[0m\n\u001b[1;32m    244\u001b[0m     \u001b[0;32mdef\u001b[0m \u001b[0m_value_or_default\u001b[0m\u001b[0;34m(\u001b[0m\u001b[0mself\u001b[0m\u001b[0;34m,\u001b[0m \u001b[0mobj\u001b[0m\u001b[0;34m,\u001b[0m \u001b[0mkey\u001b[0m\u001b[0;34m,\u001b[0m \u001b[0mdefault\u001b[0m\u001b[0;34m)\u001b[0m\u001b[0;34m:\u001b[0m\u001b[0;34m\u001b[0m\u001b[0;34m\u001b[0m\u001b[0m\n",
      "\u001b[0;31mStaleElementReferenceException\u001b[0m: Message: stale element reference: element is not attached to the page document\n  (Session info: chrome=86.0.4240.111)\n"
     ]
    }
   ],
   "source": [
    "get_jobs('data scientist', 13, verbose=True, slp_time=10)"
   ]
  },
  {
   "cell_type": "code",
   "execution_count": null,
   "metadata": {},
   "outputs": [],
   "source": []
  },
  {
   "cell_type": "code",
   "execution_count": null,
   "metadata": {},
   "outputs": [],
   "source": []
  }
 ],
 "metadata": {
  "kernelspec": {
   "display_name": "Python 3",
   "language": "python",
   "name": "python3"
  },
  "language_info": {
   "codemirror_mode": {
    "name": "ipython",
    "version": 3
   },
   "file_extension": ".py",
   "mimetype": "text/x-python",
   "name": "python",
   "nbconvert_exporter": "python",
   "pygments_lexer": "ipython3",
   "version": "3.8.3"
  }
 },
 "nbformat": 4,
 "nbformat_minor": 4
}
